{
 "cells": [
  {
   "cell_type": "code",
   "execution_count": 85,
   "metadata": {},
   "outputs": [],
   "source": [
    "import pandas as pd\n",
    "import numpy as np\n"
   ]
  },
  {
   "cell_type": "code",
   "execution_count": 86,
   "metadata": {},
   "outputs": [
    {
     "data": {
      "text/html": [
       "<div>\n",
       "<style scoped>\n",
       "    .dataframe tbody tr th:only-of-type {\n",
       "        vertical-align: middle;\n",
       "    }\n",
       "\n",
       "    .dataframe tbody tr th {\n",
       "        vertical-align: top;\n",
       "    }\n",
       "\n",
       "    .dataframe thead th {\n",
       "        text-align: right;\n",
       "    }\n",
       "</style>\n",
       "<table border=\"1\" class=\"dataframe\">\n",
       "  <thead>\n",
       "    <tr style=\"text-align: right;\">\n",
       "      <th></th>\n",
       "      <th>login</th>\n",
       "      <th>name</th>\n",
       "      <th>company</th>\n",
       "      <th>location</th>\n",
       "      <th>email</th>\n",
       "      <th>hireable</th>\n",
       "      <th>bio</th>\n",
       "      <th>public_repos</th>\n",
       "      <th>followers</th>\n",
       "      <th>following</th>\n",
       "      <th>created_at</th>\n",
       "    </tr>\n",
       "  </thead>\n",
       "  <tbody>\n",
       "    <tr>\n",
       "      <th>0</th>\n",
       "      <td>Premalatha-success</td>\n",
       "      <td>Premalatha T</td>\n",
       "      <td>AI CONSULTANT/DATA SCIENTIST/TRAINER/FREELANCE...</td>\n",
       "      <td>Chennai</td>\n",
       "      <td>NaN</td>\n",
       "      <td>NaN</td>\n",
       "      <td>Data Science Fanatic</td>\n",
       "      <td>137</td>\n",
       "      <td>2035</td>\n",
       "      <td>1</td>\n",
       "      <td>2020-01-13T14:41:16Z</td>\n",
       "    </tr>\n",
       "    <tr>\n",
       "      <th>1</th>\n",
       "      <td>anitaa1990</td>\n",
       "      <td>Anitaa Murthy</td>\n",
       "      <td>NaN</td>\n",
       "      <td>Chennai</td>\n",
       "      <td>murthyanitaa@gmail.com</td>\n",
       "      <td>True</td>\n",
       "      <td>Android Developer/iOS Developer</td>\n",
       "      <td>38</td>\n",
       "      <td>1945</td>\n",
       "      <td>12</td>\n",
       "      <td>2016-10-04T05:03:44Z</td>\n",
       "    </tr>\n",
       "    <tr>\n",
       "      <th>2</th>\n",
       "      <td>codewithMUHILAN</td>\n",
       "      <td>ＭＵＨＩＬＡＮ</td>\n",
       "      <td>NaN</td>\n",
       "      <td>chennai, india</td>\n",
       "      <td>NaN</td>\n",
       "      <td>NaN</td>\n",
       "      <td>Love with my Passion...❤️</td>\n",
       "      <td>5</td>\n",
       "      <td>1838</td>\n",
       "      <td>0</td>\n",
       "      <td>2023-07-10T05:30:12Z</td>\n",
       "    </tr>\n",
       "    <tr>\n",
       "      <th>3</th>\n",
       "      <td>sygops</td>\n",
       "      <td>SYGK</td>\n",
       "      <td>NaN</td>\n",
       "      <td>Chennai</td>\n",
       "      <td>sygops@gmail.com</td>\n",
       "      <td>NaN</td>\n",
       "      <td>Do what you feel in your heart to be right. Yo...</td>\n",
       "      <td>113</td>\n",
       "      <td>1815</td>\n",
       "      <td>10219</td>\n",
       "      <td>2015-12-30T12:32:19Z</td>\n",
       "    </tr>\n",
       "    <tr>\n",
       "      <th>4</th>\n",
       "      <td>Spikeysanju</td>\n",
       "      <td>Sanju S</td>\n",
       "      <td>THISUXHQ</td>\n",
       "      <td>Chennai, India</td>\n",
       "      <td>spikeysanju98@gmail.com</td>\n",
       "      <td>True</td>\n",
       "      <td>Designer Founder @THISUXHQ | Google Developer ...</td>\n",
       "      <td>65</td>\n",
       "      <td>1297</td>\n",
       "      <td>24</td>\n",
       "      <td>2016-11-11T11:33:06Z</td>\n",
       "    </tr>\n",
       "  </tbody>\n",
       "</table>\n",
       "</div>"
      ],
      "text/plain": [
       "                login           name  \\\n",
       "0  Premalatha-success   Premalatha T   \n",
       "1          anitaa1990  Anitaa Murthy   \n",
       "2     codewithMUHILAN        ＭＵＨＩＬＡＮ   \n",
       "3              sygops           SYGK   \n",
       "4         Spikeysanju        Sanju S   \n",
       "\n",
       "                                             company        location  \\\n",
       "0  AI CONSULTANT/DATA SCIENTIST/TRAINER/FREELANCE...         Chennai   \n",
       "1                                                NaN         Chennai   \n",
       "2                                                NaN  chennai, india   \n",
       "3                                                NaN         Chennai   \n",
       "4                                           THISUXHQ  Chennai, India   \n",
       "\n",
       "                     email hireable  \\\n",
       "0                      NaN      NaN   \n",
       "1   murthyanitaa@gmail.com     True   \n",
       "2                      NaN      NaN   \n",
       "3         sygops@gmail.com      NaN   \n",
       "4  spikeysanju98@gmail.com     True   \n",
       "\n",
       "                                                 bio  public_repos  followers  \\\n",
       "0                               Data Science Fanatic           137       2035   \n",
       "1                    Android Developer/iOS Developer            38       1945   \n",
       "2                          Love with my Passion...❤️             5       1838   \n",
       "3  Do what you feel in your heart to be right. Yo...           113       1815   \n",
       "4  Designer Founder @THISUXHQ | Google Developer ...            65       1297   \n",
       "\n",
       "   following            created_at  \n",
       "0          1  2020-01-13T14:41:16Z  \n",
       "1         12  2016-10-04T05:03:44Z  \n",
       "2          0  2023-07-10T05:30:12Z  \n",
       "3      10219  2015-12-30T12:32:19Z  \n",
       "4         24  2016-11-11T11:33:06Z  "
      ]
     },
     "execution_count": 86,
     "metadata": {},
     "output_type": "execute_result"
    }
   ],
   "source": [
    "users_data=pd.read_csv('users.csv')\n",
    "users_data.head()"
   ]
  },
  {
   "cell_type": "code",
   "execution_count": 87,
   "metadata": {},
   "outputs": [
    {
     "data": {
      "text/plain": [
       "Index(['login', 'name', 'company', 'location', 'email', 'hireable', 'bio',\n",
       "       'public_repos', 'followers', 'following', 'created_at'],\n",
       "      dtype='object')"
      ]
     },
     "execution_count": 87,
     "metadata": {},
     "output_type": "execute_result"
    }
   ],
   "source": [
    "users_data.columns"
   ]
  },
  {
   "cell_type": "code",
   "execution_count": 88,
   "metadata": {},
   "outputs": [
    {
     "data": {
      "text/html": [
       "<div>\n",
       "<style scoped>\n",
       "    .dataframe tbody tr th:only-of-type {\n",
       "        vertical-align: middle;\n",
       "    }\n",
       "\n",
       "    .dataframe tbody tr th {\n",
       "        vertical-align: top;\n",
       "    }\n",
       "\n",
       "    .dataframe thead th {\n",
       "        text-align: right;\n",
       "    }\n",
       "</style>\n",
       "<table border=\"1\" class=\"dataframe\">\n",
       "  <thead>\n",
       "    <tr style=\"text-align: right;\">\n",
       "      <th></th>\n",
       "      <th>login</th>\n",
       "      <th>full_name</th>\n",
       "      <th>created_at</th>\n",
       "      <th>stargazers_count</th>\n",
       "      <th>watchers_count</th>\n",
       "      <th>language</th>\n",
       "      <th>has_projects</th>\n",
       "      <th>has_wiki</th>\n",
       "      <th>license_name</th>\n",
       "    </tr>\n",
       "  </thead>\n",
       "  <tbody>\n",
       "    <tr>\n",
       "      <th>0</th>\n",
       "      <td>Premalatha-success</td>\n",
       "      <td>Premalatha-success/-Practice</td>\n",
       "      <td>2021-10-28T13:15:23Z</td>\n",
       "      <td>1</td>\n",
       "      <td>1</td>\n",
       "      <td>Jupyter Notebook</td>\n",
       "      <td>True</td>\n",
       "      <td>True</td>\n",
       "      <td>NaN</td>\n",
       "    </tr>\n",
       "    <tr>\n",
       "      <th>1</th>\n",
       "      <td>Premalatha-success</td>\n",
       "      <td>Premalatha-success/Advance-ML</td>\n",
       "      <td>2022-04-21T16:02:25Z</td>\n",
       "      <td>4</td>\n",
       "      <td>4</td>\n",
       "      <td>Jupyter Notebook</td>\n",
       "      <td>True</td>\n",
       "      <td>True</td>\n",
       "      <td>NaN</td>\n",
       "    </tr>\n",
       "    <tr>\n",
       "      <th>2</th>\n",
       "      <td>Premalatha-success</td>\n",
       "      <td>Premalatha-success/AI-in-Finance--Loan-Approva...</td>\n",
       "      <td>2021-08-25T15:53:12Z</td>\n",
       "      <td>1</td>\n",
       "      <td>1</td>\n",
       "      <td>NaN</td>\n",
       "      <td>True</td>\n",
       "      <td>True</td>\n",
       "      <td>NaN</td>\n",
       "    </tr>\n",
       "    <tr>\n",
       "      <th>3</th>\n",
       "      <td>Premalatha-success</td>\n",
       "      <td>Premalatha-success/AIML_Batch2_BB</td>\n",
       "      <td>2022-05-13T14:09:38Z</td>\n",
       "      <td>16</td>\n",
       "      <td>16</td>\n",
       "      <td>Jupyter Notebook</td>\n",
       "      <td>True</td>\n",
       "      <td>True</td>\n",
       "      <td>NaN</td>\n",
       "    </tr>\n",
       "    <tr>\n",
       "      <th>4</th>\n",
       "      <td>Premalatha-success</td>\n",
       "      <td>Premalatha-success/AIML_Blackbucks</td>\n",
       "      <td>2022-03-18T13:30:01Z</td>\n",
       "      <td>8</td>\n",
       "      <td>8</td>\n",
       "      <td>Jupyter Notebook</td>\n",
       "      <td>True</td>\n",
       "      <td>True</td>\n",
       "      <td>NaN</td>\n",
       "    </tr>\n",
       "  </tbody>\n",
       "</table>\n",
       "</div>"
      ],
      "text/plain": [
       "                login                                          full_name  \\\n",
       "0  Premalatha-success                       Premalatha-success/-Practice   \n",
       "1  Premalatha-success                      Premalatha-success/Advance-ML   \n",
       "2  Premalatha-success  Premalatha-success/AI-in-Finance--Loan-Approva...   \n",
       "3  Premalatha-success                  Premalatha-success/AIML_Batch2_BB   \n",
       "4  Premalatha-success                 Premalatha-success/AIML_Blackbucks   \n",
       "\n",
       "             created_at  stargazers_count  watchers_count          language  \\\n",
       "0  2021-10-28T13:15:23Z                 1               1  Jupyter Notebook   \n",
       "1  2022-04-21T16:02:25Z                 4               4  Jupyter Notebook   \n",
       "2  2021-08-25T15:53:12Z                 1               1               NaN   \n",
       "3  2022-05-13T14:09:38Z                16              16  Jupyter Notebook   \n",
       "4  2022-03-18T13:30:01Z                 8               8  Jupyter Notebook   \n",
       "\n",
       "   has_projects  has_wiki license_name  \n",
       "0          True      True          NaN  \n",
       "1          True      True          NaN  \n",
       "2          True      True          NaN  \n",
       "3          True      True          NaN  \n",
       "4          True      True          NaN  "
      ]
     },
     "execution_count": 88,
     "metadata": {},
     "output_type": "execute_result"
    }
   ],
   "source": [
    "repo_data=pd.read_csv('repositories.csv')\n",
    "repo_data.head()"
   ]
  },
  {
   "cell_type": "code",
   "execution_count": 89,
   "metadata": {},
   "outputs": [
    {
     "data": {
      "text/plain": [
       "Index(['login', 'full_name', 'created_at', 'stargazers_count',\n",
       "       'watchers_count', 'language', 'has_projects', 'has_wiki',\n",
       "       'license_name'],\n",
       "      dtype='object')"
      ]
     },
     "execution_count": 89,
     "metadata": {},
     "output_type": "execute_result"
    }
   ],
   "source": [
    "repo_data.columns"
   ]
  },
  {
   "cell_type": "code",
   "execution_count": 90,
   "metadata": {},
   "outputs": [
    {
     "data": {
      "text/plain": [
       "0    Premalatha-success\n",
       "1            anitaa1990\n",
       "2       codewithMUHILAN\n",
       "3                sygops\n",
       "4           Spikeysanju\n",
       "Name: login, dtype: object"
      ]
     },
     "execution_count": 90,
     "metadata": {},
     "output_type": "execute_result"
    }
   ],
   "source": [
    "#1.  Who are the top 5 users in Chennai with the highest number of followers? List their login in order, comma-separated.\n",
    "users_data.sort_values(by=['followers'])\n",
    "users_data[:5]['login']"
   ]
  },
  {
   "cell_type": "code",
   "execution_count": 91,
   "metadata": {},
   "outputs": [
    {
     "data": {
      "text/plain": [
       "351             cnu\n",
       "220    railsfactory\n",
       "102         sudhirj\n",
       "297        ravijaya\n",
       "309           badri\n",
       "Name: login, dtype: object"
      ]
     },
     "execution_count": 91,
     "metadata": {},
     "output_type": "execute_result"
    }
   ],
   "source": [
    "#2.Who are the 5 earliest registered GitHub users in Chennai? List their login in ascending order of created_at, comma-separated.\n",
    "users_data['created_at']=pd.to_datetime(users_data['created_at'])\n",
    "temp_data=users_data.sort_values(by=['created_at'],ascending=[True])\n",
    "temp_data['login'][:5]"
   ]
  },
  {
   "cell_type": "code",
   "execution_count": 92,
   "metadata": {},
   "outputs": [
    {
     "data": {
      "text/plain": [
       "mit             4333\n",
       "apache-2.0      1153\n",
       "other            841\n",
       "gpl-3.0          701\n",
       "bsd-3-clause     224\n",
       "cc0-1.0          134\n",
       "gpl-2.0          116\n",
       "agpl-3.0         104\n",
       "bsd-2-clause      70\n",
       "unlicense         67\n",
       "mpl-2.0           64\n",
       "cc-by-4.0         61\n",
       "isc               43\n",
       "lgpl-2.1          26\n",
       "cc-by-sa-4.0      23\n",
       "lgpl-3.0          21\n",
       "wtfpl             16\n",
       "epl-1.0            9\n",
       "epl-2.0            8\n",
       "0bsd               6\n",
       "mit-0              5\n",
       "osl-3.0            4\n",
       "ms-pl              3\n",
       "upl-1.0            1\n",
       "bsl-1.0            1\n",
       "ofl-1.1            1\n",
       "ncsa               1\n",
       "odbl-1.0           1\n",
       "Name: license_name, dtype: int64"
      ]
     },
     "execution_count": 92,
     "metadata": {},
     "output_type": "execute_result"
    }
   ],
   "source": [
    "#3. What are the 3 most popular license among these users? Ignore missing licenses. List the license_name in order, comma-separated.\n",
    "repo_data.license_name.value_counts()"
   ]
  },
  {
   "cell_type": "code",
   "execution_count": 93,
   "metadata": {},
   "outputs": [
    {
     "data": {
      "text/plain": [
       "THOUGHTWORKS                       7\n",
       "ZOHO                               6\n",
       "CHENNAI INSTITUTE OF TECHNOLOGY    6\n",
       "IIT MADRAS                         5\n",
       "PAYPAL                             4\n",
       "                                  ..\n",
       "LUMALABS                           1\n",
       "TIMELESS                           1\n",
       "TRIMBLE INC                        1\n",
       "LOGIC SOFT PVT. LTD.               1\n",
       "MCCARTHY LAB, NEXTECH              1\n",
       "Name: company, Length: 211, dtype: int64"
      ]
     },
     "execution_count": 93,
     "metadata": {},
     "output_type": "execute_result"
    }
   ],
   "source": [
    "#4. Which company do the majority of these developers work at?\n",
    "users_data['company'].value_counts()"
   ]
  },
  {
   "cell_type": "code",
   "execution_count": 94,
   "metadata": {},
   "outputs": [
    {
     "data": {
      "text/plain": [
       "JavaScript          3603\n",
       "Python              2424\n",
       "Java                1487\n",
       "HTML                1458\n",
       "Jupyter Notebook    1200\n",
       "                    ... \n",
       "ReScript               1\n",
       "ASL                    1\n",
       "Zig                    1\n",
       "Lex                    1\n",
       "Quake                  1\n",
       "Name: language, Length: 125, dtype: int64"
      ]
     },
     "execution_count": 94,
     "metadata": {},
     "output_type": "execute_result"
    }
   ],
   "source": [
    "#5. Which programming language is most popular among these users?\n",
    "repo_data['language'].value_counts()"
   ]
  },
  {
   "cell_type": "code",
   "execution_count": 95,
   "metadata": {},
   "outputs": [
    {
     "data": {
      "text/plain": [
       "JavaScript          1244\n",
       "Python               667\n",
       "HTML                 527\n",
       "TypeScript           375\n",
       "Jupyter Notebook     358\n",
       "CSS                  231\n",
       "Java                 212\n",
       "C++                   93\n",
       "Kotlin                58\n",
       "C#                    46\n",
       "Dart                  42\n",
       "Go                    40\n",
       "Shell                 38\n",
       "C                     36\n",
       "EJS                   24\n",
       "Solidity              20\n",
       "PHP                   17\n",
       "Rust                  15\n",
       "SCSS                  12\n",
       "Swift                 12\n",
       "Astro                  8\n",
       "Vue                    8\n",
       "MDX                    6\n",
       "Svelte                 6\n",
       "HCL                    6\n",
       "MATLAB                 5\n",
       "Scala                  5\n",
       "Verilog                5\n",
       "Dockerfile             5\n",
       "Batchfile              4\n",
       "Ruby                   4\n",
       "Smarty                 4\n",
       "TSQL                   3\n",
       "Assembly               3\n",
       "R                      2\n",
       "Markdown               2\n",
       "Mustache               2\n",
       "VHDL                   2\n",
       "TeX                    2\n",
       "ShaderLab              2\n",
       "PowerShell             2\n",
       "VBScript               1\n",
       "PureBasic              1\n",
       "Tcl                    1\n",
       "GDScript               1\n",
       "Cairo                  1\n",
       "kvlang                 1\n",
       "Makefile               1\n",
       "CMake                  1\n",
       "Objective-C            1\n",
       "Move                   1\n",
       "SQL                    1\n",
       "Name: language, dtype: int64"
      ]
     },
     "execution_count": 95,
     "metadata": {},
     "output_type": "execute_result"
    }
   ],
   "source": [
    "#6.Which programming language is the second most popular among users who joined after 2020?\n",
    "users_data['year']=users_data['created_at'].apply(lambda x:x.year)\n",
    "temp_df=users_data[users_data['year']>=2020]\n",
    "logins=temp_df['login']\n",
    "filtered_repos=repo_data[repo_data['login'].isin(logins)]\n",
    "filtered_repos['language'].value_counts()"
   ]
  },
  {
   "cell_type": "code",
   "execution_count": 96,
   "metadata": {},
   "outputs": [
    {
     "data": {
      "text/plain": [
       "language\n",
       "NSIS            0.00\n",
       "Roff            0.00\n",
       "Erlang          0.00\n",
       "Smali           0.00\n",
       "Scilab          0.00\n",
       "               ...  \n",
       "XSLT          102.00\n",
       "Less          115.00\n",
       "FreeMarker    130.25\n",
       "Vala          331.25\n",
       "Markdown      363.75\n",
       "Name: stargazers_count, Length: 125, dtype: float64"
      ]
     },
     "execution_count": 96,
     "metadata": {},
     "output_type": "execute_result"
    }
   ],
   "source": [
    "#7.Which language has the highest average number of stars per repository?\n",
    "repo_data.groupby('language')['stargazers_count'].mean().sort_values()"
   ]
  },
  {
   "cell_type": "code",
   "execution_count": 97,
   "metadata": {},
   "outputs": [
    {
     "data": {
      "text/plain": [
       "2        codewithMUHILAN\n",
       "0     Premalatha-success\n",
       "12          aswintechguy\n",
       "13        manikandanraji\n",
       "10            jaganjavid\n",
       "Name: login, dtype: object"
      ]
     },
     "execution_count": 97,
     "metadata": {},
     "output_type": "execute_result"
    }
   ],
   "source": [
    "#8. Let's define leader_strength as followers / (1 + following). Who are the top 5 in terms of leader_strength? List their login in order, comma-separated.\n",
    "users_data=pd.read_csv('users.csv')\n",
    "users_data['leader_strength']=users_data['followers']/(1+users_data['following'])\n",
    "users_data.sort_values(by=['leader_strength'],ascending=[False])[:5]['login']"
   ]
  },
  {
   "cell_type": "code",
   "execution_count": 98,
   "metadata": {},
   "outputs": [
    {
     "name": "stdout",
     "output_type": "stream",
     "text": [
      "Correlation: 0.08359022259418558\n"
     ]
    }
   ],
   "source": [
    "#9.What is the correlation between the number of followers and the number of public repositories among users in Chennai\n",
    "corr=users_data['followers'].corr(users_data['public_repos'])\n",
    "print(f'Correlation: {corr}')"
   ]
  },
  {
   "cell_type": "code",
   "execution_count": 99,
   "metadata": {},
   "outputs": [
    {
     "name": "stdout",
     "output_type": "stream",
     "text": [
      "Slope: 0.29551946463044987\n",
      "Intercept: 123.80771322599745\n"
     ]
    }
   ],
   "source": [
    "#10. Does creating more repos help users get more followers? Using regression, estimate how many additional followers a user gets per additional public repository.\n",
    "from scipy.stats import linregress\n",
    "slope, intercept, r_value, p_value, std_err = linregress(users_data['public_repos'], users_data['followers'])\n",
    "print(f'Slope: {slope}')\n",
    "print(f'Intercept: {intercept}')"
   ]
  },
  {
   "cell_type": "code",
   "execution_count": 104,
   "metadata": {},
   "outputs": [
    {
     "name": "stdout",
     "output_type": "stream",
     "text": [
      "Correlation: 0.24213624914452253\n"
     ]
    }
   ],
   "source": [
    "#11. Do people typically enable projects and wikis together? What is the correlation between a repo having projects enabled and having wiki enabled?\n",
    "corr=repo_data['has_projects'].corr(repo_data['has_wiki'])\n",
    "print(f'Correlation: {corr}')"
   ]
  },
  {
   "cell_type": "code",
   "execution_count": 107,
   "metadata": {},
   "outputs": [
    {
     "name": "stdout",
     "output_type": "stream",
     "text": [
      "Average Difference: 242.39263192831066\n"
     ]
    }
   ],
   "source": [
    "#12.Do hireable users follow more people than those who are not hireable?\n",
    "hireable_avg = users_data[users_data['hireable'] == True]['following'].mean()\n",
    "non_hireable_avg = users_data[users_data['hireable'].isna()]['following'].mean()\n",
    "average_difference = hireable_avg - non_hireable_avg\n",
    "print(f'Average Difference: {average_difference}')"
   ]
  },
  {
   "cell_type": "code",
   "execution_count": 112,
   "metadata": {},
   "outputs": [
    {
     "name": "stdout",
     "output_type": "stream",
     "text": [
      "Correlation: -0.019259840842312692\n"
     ]
    }
   ],
   "source": [
    "#13.  Some developers write long bios. Does that help them get more followers? What's the correlation of the length of their bio (in Unicode words, split by whitespace) with followers? (Ignore people without bios)\n",
    "users_data['bio']=users_data['bio'].astype('str')\n",
    "data_filtered = users_data[users_data['bio'].notnull()]\n",
    "data_filtered['bio_len']=data_filtered['bio'].apply(lambda x:len(x.split()) if x else 0)\n",
    "\n",
    "corr=data_filtered['followers'].corr(data_filtered['bio_len'])\n",
    "print(f'Correlation: {corr}')"
   ]
  },
  {
   "cell_type": "code",
   "execution_count": 113,
   "metadata": {},
   "outputs": [
    {
     "data": {
      "text/plain": [
       "rama270677          80\n",
       "rakshaa2000         47\n",
       "Raj2710             43\n",
       "Vinaykumarmahato    42\n",
       "Balajichandra       41\n",
       "                    ..\n",
       "sathishmepco         1\n",
       "kapilmascul          1\n",
       "manikandanraji       1\n",
       "payilagam            1\n",
       "sundararajana        1\n",
       "Name: login, Length: 408, dtype: int64"
      ]
     },
     "execution_count": 113,
     "metadata": {},
     "output_type": "execute_result"
    }
   ],
   "source": [
    "#14.Who created the most repositories on weekends (UTC)? List the top 5 users' login in order, comma-separated\n",
    "repo_data['created_at'] = pd.to_datetime(repo_data['created_at'])\n",
    "\n",
    "repo_data['day_of_week'] = repo_data['created_at'].dt.dayofweek\n",
    "weekend_df = repo_data[repo_data['day_of_week'].isin([5, 6])]\n",
    "weekend_df['login'].value_counts().sort_values(ascending=False)"
   ]
  },
  {
   "cell_type": "code",
   "execution_count": 78,
   "metadata": {},
   "outputs": [
    {
     "name": "stdout",
     "output_type": "stream",
     "text": [
      "Fraction  0.015075376884422065\n"
     ]
    }
   ],
   "source": [
    "#15.Do people who are hireable share their email addresses more often?\n",
    "data_with_email=users_data[users_data['email'].notnull()]\n",
    "hireable=data_with_email[data_with_email['hireable']==True].shape[0]\n",
    "hireable=hireable/data_with_email.shape[0]\n",
    "nothireable=data_with_email[data_with_email['hireable']!=True].shape[0]\n",
    "nothireable=nothireable/data_with_email.shape[0]\n",
    "print(\"Fraction \",hireable-nothireable)"
   ]
  },
  {
   "cell_type": "code",
   "execution_count": 81,
   "metadata": {},
   "outputs": [
    {
     "data": {
      "text/plain": [
       "S          19\n",
       "Kumar      13\n",
       "K           9\n",
       "M           8\n",
       "G           6\n",
       "           ..\n",
       "Chandan     1\n",
       "Nesin       1\n",
       "Gowtham     1\n",
       "Rao         1\n",
       "Agrawal     1\n",
       "Name: surname, Length: 320, dtype: int64"
      ]
     },
     "execution_count": 81,
     "metadata": {},
     "output_type": "execute_result"
    }
   ],
   "source": [
    "#16. et's assume that the last word in a user's name is their surname (ignore missing names, trim and split by whitespace.) What's the most common surname? (If there's a tie, list them all, comma-separated, alphabetically)\n",
    "users_data['name']=users_data['name'].astype('str')\n",
    "users_data['surname']=users_data['name'].apply(lambda x:x.split()[-1])\n",
    "users_data['surname'].value_counts()"
   ]
  },
  {
   "cell_type": "code",
   "execution_count": 145,
   "metadata": {},
   "outputs": [
    {
     "name": "stdout",
     "output_type": "stream",
     "text": [
      "Top languages in 2008:\n",
      "  Python: 2 repositories\n",
      "  Emacs Lisp: 1 repositories\n",
      "Top languages in 2009:\n",
      "  JavaScript: 9 repositories\n",
      "  Ruby: 5 repositories\n",
      "  Python: 4 repositories\n",
      "  Objective-C: 1 repositories\n",
      "Top languages in 2010:\n",
      "  JavaScript: 10 repositories\n",
      "  Ruby: 10 repositories\n",
      "  PHP: 8 repositories\n",
      "  Java: 4 repositories\n",
      "  HTML: 2 repositories\n",
      "Top languages in 2011:\n",
      "  Ruby: 34 repositories\n",
      "  JavaScript: 13 repositories\n",
      "  Java: 9 repositories\n",
      "  Python: 9 repositories\n",
      "  C: 2 repositories\n",
      "Top languages in 2012:\n",
      "  Ruby: 86 repositories\n",
      "  JavaScript: 48 repositories\n",
      "  Python: 48 repositories\n",
      "  Java: 28 repositories\n",
      "  PHP: 13 repositories\n",
      "Top languages in 2013:\n",
      "  JavaScript: 68 repositories\n",
      "  Ruby: 59 repositories\n",
      "  PHP: 37 repositories\n",
      "  Python: 37 repositories\n",
      "  Java: 33 repositories\n",
      "Top languages in 2014:\n",
      "  JavaScript: 79 repositories\n",
      "  Python: 60 repositories\n",
      "  Ruby: 51 repositories\n",
      "  CSS: 39 repositories\n",
      "  Objective-C: 38 repositories\n",
      "Top languages in 2015:\n",
      "  Java: 114 repositories\n",
      "  JavaScript: 93 repositories\n",
      "  Ruby: 86 repositories\n",
      "  Python: 58 repositories\n",
      "  CSS: 37 repositories\n",
      "Top languages in 2016:\n",
      "  JavaScript: 165 repositories\n",
      "  Java: 154 repositories\n",
      "  Python: 72 repositories\n",
      "  HTML: 54 repositories\n",
      "  Ruby: 46 repositories\n",
      "Top languages in 2017:\n",
      "  JavaScript: 212 repositories\n",
      "  Python: 211 repositories\n",
      "  Java: 141 repositories\n",
      "  HTML: 97 repositories\n",
      "  Jupyter Notebook: 72 repositories\n",
      "Top languages in 2018:\n",
      "  JavaScript: 314 repositories\n",
      "  Python: 228 repositories\n",
      "  Java: 210 repositories\n",
      "  HTML: 109 repositories\n",
      "  Jupyter Notebook: 109 repositories\n",
      "Top languages in 2019:\n",
      "  JavaScript: 301 repositories\n",
      "  Python: 278 repositories\n",
      "  Java: 147 repositories\n",
      "  Jupyter Notebook: 140 repositories\n",
      "  HTML: 126 repositories\n",
      "Top languages in 2020:\n",
      "  JavaScript: 378 repositories\n",
      "  Python: 377 repositories\n",
      "  Jupyter Notebook: 254 repositories\n",
      "  HTML: 204 repositories\n",
      "  Java: 130 repositories\n",
      "Top languages in 2021:\n",
      "  JavaScript: 469 repositories\n",
      "  Python: 357 repositories\n",
      "  HTML: 250 repositories\n",
      "  Jupyter Notebook: 192 repositories\n",
      "  Java: 130 repositories\n",
      "Top languages in 2022:\n",
      "  JavaScript: 558 repositories\n",
      "  HTML: 218 repositories\n",
      "  Python: 217 repositories\n",
      "  Java: 166 repositories\n",
      "  Jupyter Notebook: 131 repositories\n",
      "Top languages in 2023:\n",
      "  JavaScript: 584 repositories\n",
      "  Python: 279 repositories\n",
      "  HTML: 229 repositories\n",
      "  TypeScript: 210 repositories\n",
      "  Jupyter Notebook: 160 repositories\n",
      "Top languages in 2024:\n",
      "  JavaScript: 302 repositories\n",
      "  TypeScript: 212 repositories\n",
      "  Python: 186 repositories\n",
      "  Jupyter Notebook: 119 repositories\n",
      "  HTML: 116 repositories\n"
     ]
    },
    {
     "data": {
      "image/png": "[encoded data removed]",
      "text/plain": [
       "<Figure size 1200x600 with 1 Axes>"
      ]
     },
     "metadata": {},
     "output_type": "display_data"
    }
   ],
   "source": [
    "repo_data['created_at']=pd.to_datetime(repo_data['created_at'])\n",
    "repo_data['year']=repo_data['created_at'].apply(lambda x:x.year)\n",
    "language_counts = repo_data.groupby(['year', 'language']).size().reset_index(name='count')\n",
    "top_languages = (language_counts.sort_values(['year', 'count'], ascending=[True, False])\n",
    "                                      .groupby('year')\n",
    "                                      .head(5))\n",
    "import matplotlib.pyplot as plt\n",
    "pivot_df = top_languages.pivot(index='year', columns='language', values='count').fillna(0)\n",
    "\n",
    "    # Plotting\n",
    "pivot_df.plot(kind='bar', figsize=(12, 6),width=0.8)\n",
    "grouped=top_languages.groupby('year')\n",
    "for year, group in grouped:\n",
    "        print(f\"Top languages in {year}:\")\n",
    "        for index, row in group.iterrows():\n",
    "            print(f\"  {row['language']}: {row['count']} repositories\")\n"
   ]
  },
  {
   "cell_type": "code",
   "execution_count": 146,
   "metadata": {},
   "outputs": [
    {
     "data": {
      "text/html": [
       "<div>\n",
       "<style scoped>\n",
       "    .dataframe tbody tr th:only-of-type {\n",
       "        vertical-align: middle;\n",
       "    }\n",
       "\n",
       "    .dataframe tbody tr th {\n",
       "        vertical-align: top;\n",
       "    }\n",
       "\n",
       "    .dataframe thead th {\n",
       "        text-align: right;\n",
       "    }\n",
       "</style>\n",
       "<table border=\"1\" class=\"dataframe\">\n",
       "  <thead>\n",
       "    <tr style=\"text-align: right;\">\n",
       "      <th></th>\n",
       "      <th>login</th>\n",
       "      <th>name</th>\n",
       "      <th>company</th>\n",
       "      <th>location</th>\n",
       "      <th>email</th>\n",
       "      <th>hireable</th>\n",
       "      <th>bio</th>\n",
       "      <th>public_repos</th>\n",
       "      <th>followers</th>\n",
       "      <th>following</th>\n",
       "      <th>created_at</th>\n",
       "      <th>leader_strength</th>\n",
       "      <th>bio_len</th>\n",
       "    </tr>\n",
       "  </thead>\n",
       "  <tbody>\n",
       "    <tr>\n",
       "      <th>0</th>\n",
       "      <td>Premalatha-success</td>\n",
       "      <td>Premalatha T</td>\n",
       "      <td>AI CONSULTANT/DATA SCIENTIST/TRAINER/FREELANCE...</td>\n",
       "      <td>Chennai</td>\n",
       "      <td>NaN</td>\n",
       "      <td>NaN</td>\n",
       "      <td>Data Science Fanatic</td>\n",
       "      <td>137</td>\n",
       "      <td>2035</td>\n",
       "      <td>1</td>\n",
       "      <td>2020-01-13T14:41:16Z</td>\n",
       "      <td>1017.500000</td>\n",
       "      <td>3</td>\n",
       "    </tr>\n",
       "    <tr>\n",
       "      <th>1</th>\n",
       "      <td>anitaa1990</td>\n",
       "      <td>Anitaa Murthy</td>\n",
       "      <td>NaN</td>\n",
       "      <td>Chennai</td>\n",
       "      <td>murthyanitaa@gmail.com</td>\n",
       "      <td>True</td>\n",
       "      <td>Android Developer/iOS Developer</td>\n",
       "      <td>38</td>\n",
       "      <td>1945</td>\n",
       "      <td>12</td>\n",
       "      <td>2016-10-04T05:03:44Z</td>\n",
       "      <td>149.615385</td>\n",
       "      <td>3</td>\n",
       "    </tr>\n",
       "    <tr>\n",
       "      <th>2</th>\n",
       "      <td>codewithMUHILAN</td>\n",
       "      <td>ＭＵＨＩＬＡＮ</td>\n",
       "      <td>NaN</td>\n",
       "      <td>chennai, india</td>\n",
       "      <td>NaN</td>\n",
       "      <td>NaN</td>\n",
       "      <td>Love with my Passion...❤️</td>\n",
       "      <td>5</td>\n",
       "      <td>1838</td>\n",
       "      <td>0</td>\n",
       "      <td>2023-07-10T05:30:12Z</td>\n",
       "      <td>1838.000000</td>\n",
       "      <td>4</td>\n",
       "    </tr>\n",
       "    <tr>\n",
       "      <th>3</th>\n",
       "      <td>sygops</td>\n",
       "      <td>SYGK</td>\n",
       "      <td>NaN</td>\n",
       "      <td>Chennai</td>\n",
       "      <td>sygops@gmail.com</td>\n",
       "      <td>NaN</td>\n",
       "      <td>Do what you feel in your heart to be right. Yo...</td>\n",
       "      <td>113</td>\n",
       "      <td>1815</td>\n",
       "      <td>10219</td>\n",
       "      <td>2015-12-30T12:32:19Z</td>\n",
       "      <td>0.177593</td>\n",
       "      <td>14</td>\n",
       "    </tr>\n",
       "    <tr>\n",
       "      <th>4</th>\n",
       "      <td>Spikeysanju</td>\n",
       "      <td>Sanju S</td>\n",
       "      <td>THISUXHQ</td>\n",
       "      <td>Chennai, India</td>\n",
       "      <td>spikeysanju98@gmail.com</td>\n",
       "      <td>True</td>\n",
       "      <td>Designer Founder @THISUXHQ | Google Developer ...</td>\n",
       "      <td>65</td>\n",
       "      <td>1297</td>\n",
       "      <td>24</td>\n",
       "      <td>2016-11-11T11:33:06Z</td>\n",
       "      <td>51.880000</td>\n",
       "      <td>9</td>\n",
       "    </tr>\n",
       "    <tr>\n",
       "      <th>...</th>\n",
       "      <td>...</td>\n",
       "      <td>...</td>\n",
       "      <td>...</td>\n",
       "      <td>...</td>\n",
       "      <td>...</td>\n",
       "      <td>...</td>\n",
       "      <td>...</td>\n",
       "      <td>...</td>\n",
       "      <td>...</td>\n",
       "      <td>...</td>\n",
       "      <td>...</td>\n",
       "      <td>...</td>\n",
       "      <td>...</td>\n",
       "    </tr>\n",
       "    <tr>\n",
       "      <th>418</th>\n",
       "      <td>RAJAGOPALAN-GANGADHARAN</td>\n",
       "      <td>Rajagopalan Gangadharan</td>\n",
       "      <td>AMAZON</td>\n",
       "      <td>Chennai</td>\n",
       "      <td>g.raju2000@gmail.com</td>\n",
       "      <td>True</td>\n",
       "      <td>Learning to swim in the ocean of open source :)</td>\n",
       "      <td>51</td>\n",
       "      <td>51</td>\n",
       "      <td>20</td>\n",
       "      <td>2017-06-09T06:20:05Z</td>\n",
       "      <td>2.428571</td>\n",
       "      <td>10</td>\n",
       "    </tr>\n",
       "    <tr>\n",
       "      <th>419</th>\n",
       "      <td>sathishmepco</td>\n",
       "      <td>Sathish Kumar</td>\n",
       "      <td>ZOHO CORP</td>\n",
       "      <td>Chennai</td>\n",
       "      <td>sathishmepco@gmail.com</td>\n",
       "      <td>NaN</td>\n",
       "      <td>Android and Java developer</td>\n",
       "      <td>29</td>\n",
       "      <td>51</td>\n",
       "      <td>3</td>\n",
       "      <td>2013-10-15T09:19:30Z</td>\n",
       "      <td>12.750000</td>\n",
       "      <td>4</td>\n",
       "    </tr>\n",
       "    <tr>\n",
       "      <th>420</th>\n",
       "      <td>ShauryaBhandari</td>\n",
       "      <td>Shaurya Bhandari</td>\n",
       "      <td>MCCARTHY LAB, NEXTECH</td>\n",
       "      <td>Chennai, Delhi - India</td>\n",
       "      <td>shauryabhandari25@gmail.com</td>\n",
       "      <td>NaN</td>\n",
       "      <td>Full Stack | ML Enthusiast | McCarthy Lab | GS...</td>\n",
       "      <td>41</td>\n",
       "      <td>51</td>\n",
       "      <td>0</td>\n",
       "      <td>2018-08-20T10:26:39Z</td>\n",
       "      <td>51.000000</td>\n",
       "      <td>25</td>\n",
       "    </tr>\n",
       "    <tr>\n",
       "      <th>421</th>\n",
       "      <td>GunjanMA</td>\n",
       "      <td>Gunjan Agrawal</td>\n",
       "      <td>NaN</td>\n",
       "      <td>Chennai, India</td>\n",
       "      <td>NaN</td>\n",
       "      <td>True</td>\n",
       "      <td>CSE undergraduate student at VIT Chennai campus</td>\n",
       "      <td>17</td>\n",
       "      <td>51</td>\n",
       "      <td>101</td>\n",
       "      <td>2019-06-10T06:13:13Z</td>\n",
       "      <td>0.500000</td>\n",
       "      <td>7</td>\n",
       "    </tr>\n",
       "    <tr>\n",
       "      <th>422</th>\n",
       "      <td>PRAVIN200409</td>\n",
       "      <td>Pravin</td>\n",
       "      <td>NaN</td>\n",
       "      <td>Chennai, Tamil Nadu</td>\n",
       "      <td>pravinoff98@gmail.com</td>\n",
       "      <td>NaN</td>\n",
       "      <td>I'm Pravin, an aspiring engineer pursuing Elec...</td>\n",
       "      <td>7</td>\n",
       "      <td>51</td>\n",
       "      <td>57</td>\n",
       "      <td>2023-10-22T05:54:05Z</td>\n",
       "      <td>0.879310</td>\n",
       "      <td>22</td>\n",
       "    </tr>\n",
       "  </tbody>\n",
       "</table>\n",
       "<p>423 rows × 13 columns</p>\n",
       "</div>"
      ],
      "text/plain": [
       "                       login                     name  \\\n",
       "0         Premalatha-success             Premalatha T   \n",
       "1                 anitaa1990            Anitaa Murthy   \n",
       "2            codewithMUHILAN                  ＭＵＨＩＬＡＮ   \n",
       "3                     sygops                     SYGK   \n",
       "4                Spikeysanju                  Sanju S   \n",
       "..                       ...                      ...   \n",
       "418  RAJAGOPALAN-GANGADHARAN  Rajagopalan Gangadharan   \n",
       "419             sathishmepco            Sathish Kumar   \n",
       "420          ShauryaBhandari         Shaurya Bhandari   \n",
       "421                 GunjanMA           Gunjan Agrawal   \n",
       "422             PRAVIN200409                  Pravin    \n",
       "\n",
       "                                               company  \\\n",
       "0    AI CONSULTANT/DATA SCIENTIST/TRAINER/FREELANCE...   \n",
       "1                                                  NaN   \n",
       "2                                                  NaN   \n",
       "3                                                  NaN   \n",
       "4                                             THISUXHQ   \n",
       "..                                                 ...   \n",
       "418                                             AMAZON   \n",
       "419                                          ZOHO CORP   \n",
       "420                              MCCARTHY LAB, NEXTECH   \n",
       "421                                                NaN   \n",
       "422                                                NaN   \n",
       "\n",
       "                    location                        email hireable  \\\n",
       "0                    Chennai                          NaN      NaN   \n",
       "1                    Chennai       murthyanitaa@gmail.com     True   \n",
       "2             chennai, india                          NaN      NaN   \n",
       "3                    Chennai             sygops@gmail.com      NaN   \n",
       "4             Chennai, India      spikeysanju98@gmail.com     True   \n",
       "..                       ...                          ...      ...   \n",
       "418                  Chennai         g.raju2000@gmail.com     True   \n",
       "419                  Chennai       sathishmepco@gmail.com      NaN   \n",
       "420  Chennai, Delhi - India   shauryabhandari25@gmail.com      NaN   \n",
       "421           Chennai, India                          NaN     True   \n",
       "422      Chennai, Tamil Nadu        pravinoff98@gmail.com      NaN   \n",
       "\n",
       "                                                   bio  public_repos  \\\n",
       "0                                 Data Science Fanatic           137   \n",
       "1                      Android Developer/iOS Developer            38   \n",
       "2                            Love with my Passion...❤️             5   \n",
       "3    Do what you feel in your heart to be right. Yo...           113   \n",
       "4    Designer Founder @THISUXHQ | Google Developer ...            65   \n",
       "..                                                 ...           ...   \n",
       "418    Learning to swim in the ocean of open source :)            51   \n",
       "419                         Android and Java developer            29   \n",
       "420  Full Stack | ML Enthusiast | McCarthy Lab | GS...            41   \n",
       "421    CSE undergraduate student at VIT Chennai campus            17   \n",
       "422  I'm Pravin, an aspiring engineer pursuing Elec...             7   \n",
       "\n",
       "     followers  following            created_at  leader_strength  bio_len  \n",
       "0         2035          1  2020-01-13T14:41:16Z      1017.500000        3  \n",
       "1         1945         12  2016-10-04T05:03:44Z       149.615385        3  \n",
       "2         1838          0  2023-07-10T05:30:12Z      1838.000000        4  \n",
       "3         1815      10219  2015-12-30T12:32:19Z         0.177593       14  \n",
       "4         1297         24  2016-11-11T11:33:06Z        51.880000        9  \n",
       "..         ...        ...                   ...              ...      ...  \n",
       "418         51         20  2017-06-09T06:20:05Z         2.428571       10  \n",
       "419         51          3  2013-10-15T09:19:30Z        12.750000        4  \n",
       "420         51          0  2018-08-20T10:26:39Z        51.000000       25  \n",
       "421         51        101  2019-06-10T06:13:13Z         0.500000        7  \n",
       "422         51         57  2023-10-22T05:54:05Z         0.879310       22  \n",
       "\n",
       "[423 rows x 13 columns]"
      ]
     },
     "execution_count": 146,
     "metadata": {},
     "output_type": "execute_result"
    }
   ],
   "source": [
    "users_data"
   ]
  }
 ],
 "metadata": {
  "kernelspec": {
   "display_name": "Python 3",
   "language": "python",
   "name": "python3"
  },
  "language_info": {
   "codemirror_mode": {
    "name": "ipython",
    "version": 3
   },
   "file_extension": ".py",
   "mimetype": "text/x-python",
   "name": "python",
   "nbconvert_exporter": "python",
   "pygments_lexer": "ipython3",
   "version": "3.10.0"
  }
 },
 "nbformat": 4,
 "nbformat_minor": 2
}
